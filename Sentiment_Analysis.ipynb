{
  "nbformat": 4,
  "nbformat_minor": 0,
  "metadata": {
    "colab": {
      "name": "Sentiment-Analysis.ipynb",
      "provenance": []
    },
    "kernelspec": {
      "name": "python3",
      "display_name": "Python 3"
    },
    "language_info": {
      "name": "python"
    },
    "accelerator": "GPU"
  },
  "cells": [
    {
      "cell_type": "code",
      "execution_count": null,
      "metadata": {
        "colab": {
          "base_uri": "https://localhost:8080/"
        },
        "id": "PLDfMItyV4ig",
        "outputId": "9b5acf80-8eda-4bf4-9101-d3150f23243e"
      },
      "outputs": [
        {
          "output_type": "stream",
          "name": "stdout",
          "text": [
            "[nltk_data] Downloading package punkt to /root/nltk_data...\n",
            "[nltk_data]   Package punkt is already up-to-date!\n",
            "[nltk_data] Downloading package stopwords to /root/nltk_data...\n",
            "[nltk_data]   Package stopwords is already up-to-date!\n",
            "[nltk_data] Downloading package wordnet to /root/nltk_data...\n",
            "[nltk_data]   Package wordnet is already up-to-date!\n"
          ]
        },
        {
          "output_type": "execute_result",
          "data": {
            "text/plain": [
              "True"
            ]
          },
          "metadata": {},
          "execution_count": 1
        }
      ],
      "source": [
        "import pandas as pd\n",
        "import nltk\n",
        "from nltk.tokenize import word_tokenize , sent_tokenize\n",
        "from nltk.corpus import stopwords\n",
        "from nltk.stem import WordNetLemmatizer\n",
        "import warnings\n",
        "import numpy as np\n",
        "\n",
        "import torch\n",
        "import torch.nn as nn\n",
        "from torch.utils.data import TensorDataset , DataLoader\n",
        "\n",
        "warnings.filterwarnings(\"ignore\")\n",
        "nltk.download('punkt')\n",
        "nltk.download('stopwords')\n",
        "nltk.download('wordnet')"
      ]
    },
    {
      "cell_type": "code",
      "source": [
        "df = pd.read_csv(\"/content/sample_data/sms_spam.csv\")\n",
        "df.head()"
      ],
      "metadata": {
        "colab": {
          "base_uri": "https://localhost:8080/",
          "height": 206
        },
        "id": "Q9OOkf_3YmGv",
        "outputId": "ec4000cf-3a92-4869-8917-324352bef31f"
      },
      "execution_count": null,
      "outputs": [
        {
          "output_type": "execute_result",
          "data": {
            "text/html": [
              "\n",
              "  <div id=\"df-66bf86c0-bc98-4859-b8fe-72cb37faaf7c\">\n",
              "    <div class=\"colab-df-container\">\n",
              "      <div>\n",
              "<style scoped>\n",
              "    .dataframe tbody tr th:only-of-type {\n",
              "        vertical-align: middle;\n",
              "    }\n",
              "\n",
              "    .dataframe tbody tr th {\n",
              "        vertical-align: top;\n",
              "    }\n",
              "\n",
              "    .dataframe thead th {\n",
              "        text-align: right;\n",
              "    }\n",
              "</style>\n",
              "<table border=\"1\" class=\"dataframe\">\n",
              "  <thead>\n",
              "    <tr style=\"text-align: right;\">\n",
              "      <th></th>\n",
              "      <th>type</th>\n",
              "      <th>text</th>\n",
              "    </tr>\n",
              "  </thead>\n",
              "  <tbody>\n",
              "    <tr>\n",
              "      <th>0</th>\n",
              "      <td>ham</td>\n",
              "      <td>Go until jurong point, crazy.. Available only ...</td>\n",
              "    </tr>\n",
              "    <tr>\n",
              "      <th>1</th>\n",
              "      <td>ham</td>\n",
              "      <td>Ok lar... Joking wif u oni...</td>\n",
              "    </tr>\n",
              "    <tr>\n",
              "      <th>2</th>\n",
              "      <td>spam</td>\n",
              "      <td>Free entry in 2 a wkly comp to win FA Cup fina...</td>\n",
              "    </tr>\n",
              "    <tr>\n",
              "      <th>3</th>\n",
              "      <td>ham</td>\n",
              "      <td>U dun say so early hor... U c already then say...</td>\n",
              "    </tr>\n",
              "    <tr>\n",
              "      <th>4</th>\n",
              "      <td>ham</td>\n",
              "      <td>Nah I don't think he goes to usf, he lives aro...</td>\n",
              "    </tr>\n",
              "  </tbody>\n",
              "</table>\n",
              "</div>\n",
              "      <button class=\"colab-df-convert\" onclick=\"convertToInteractive('df-66bf86c0-bc98-4859-b8fe-72cb37faaf7c')\"\n",
              "              title=\"Convert this dataframe to an interactive table.\"\n",
              "              style=\"display:none;\">\n",
              "        \n",
              "  <svg xmlns=\"http://www.w3.org/2000/svg\" height=\"24px\"viewBox=\"0 0 24 24\"\n",
              "       width=\"24px\">\n",
              "    <path d=\"M0 0h24v24H0V0z\" fill=\"none\"/>\n",
              "    <path d=\"M18.56 5.44l.94 2.06.94-2.06 2.06-.94-2.06-.94-.94-2.06-.94 2.06-2.06.94zm-11 1L8.5 8.5l.94-2.06 2.06-.94-2.06-.94L8.5 2.5l-.94 2.06-2.06.94zm10 10l.94 2.06.94-2.06 2.06-.94-2.06-.94-.94-2.06-.94 2.06-2.06.94z\"/><path d=\"M17.41 7.96l-1.37-1.37c-.4-.4-.92-.59-1.43-.59-.52 0-1.04.2-1.43.59L10.3 9.45l-7.72 7.72c-.78.78-.78 2.05 0 2.83L4 21.41c.39.39.9.59 1.41.59.51 0 1.02-.2 1.41-.59l7.78-7.78 2.81-2.81c.8-.78.8-2.07 0-2.86zM5.41 20L4 18.59l7.72-7.72 1.47 1.35L5.41 20z\"/>\n",
              "  </svg>\n",
              "      </button>\n",
              "      \n",
              "  <style>\n",
              "    .colab-df-container {\n",
              "      display:flex;\n",
              "      flex-wrap:wrap;\n",
              "      gap: 12px;\n",
              "    }\n",
              "\n",
              "    .colab-df-convert {\n",
              "      background-color: #E8F0FE;\n",
              "      border: none;\n",
              "      border-radius: 50%;\n",
              "      cursor: pointer;\n",
              "      display: none;\n",
              "      fill: #1967D2;\n",
              "      height: 32px;\n",
              "      padding: 0 0 0 0;\n",
              "      width: 32px;\n",
              "    }\n",
              "\n",
              "    .colab-df-convert:hover {\n",
              "      background-color: #E2EBFA;\n",
              "      box-shadow: 0px 1px 2px rgba(60, 64, 67, 0.3), 0px 1px 3px 1px rgba(60, 64, 67, 0.15);\n",
              "      fill: #174EA6;\n",
              "    }\n",
              "\n",
              "    [theme=dark] .colab-df-convert {\n",
              "      background-color: #3B4455;\n",
              "      fill: #D2E3FC;\n",
              "    }\n",
              "\n",
              "    [theme=dark] .colab-df-convert:hover {\n",
              "      background-color: #434B5C;\n",
              "      box-shadow: 0px 1px 3px 1px rgba(0, 0, 0, 0.15);\n",
              "      filter: drop-shadow(0px 1px 2px rgba(0, 0, 0, 0.3));\n",
              "      fill: #FFFFFF;\n",
              "    }\n",
              "  </style>\n",
              "\n",
              "      <script>\n",
              "        const buttonEl =\n",
              "          document.querySelector('#df-66bf86c0-bc98-4859-b8fe-72cb37faaf7c button.colab-df-convert');\n",
              "        buttonEl.style.display =\n",
              "          google.colab.kernel.accessAllowed ? 'block' : 'none';\n",
              "\n",
              "        async function convertToInteractive(key) {\n",
              "          const element = document.querySelector('#df-66bf86c0-bc98-4859-b8fe-72cb37faaf7c');\n",
              "          const dataTable =\n",
              "            await google.colab.kernel.invokeFunction('convertToInteractive',\n",
              "                                                     [key], {});\n",
              "          if (!dataTable) return;\n",
              "\n",
              "          const docLinkHtml = 'Like what you see? Visit the ' +\n",
              "            '<a target=\"_blank\" href=https://colab.research.google.com/notebooks/data_table.ipynb>data table notebook</a>'\n",
              "            + ' to learn more about interactive tables.';\n",
              "          element.innerHTML = '';\n",
              "          dataTable['output_type'] = 'display_data';\n",
              "          await google.colab.output.renderOutput(dataTable, element);\n",
              "          const docLink = document.createElement('div');\n",
              "          docLink.innerHTML = docLinkHtml;\n",
              "          element.appendChild(docLink);\n",
              "        }\n",
              "      </script>\n",
              "    </div>\n",
              "  </div>\n",
              "  "
            ],
            "text/plain": [
              "   type                                               text\n",
              "0   ham  Go until jurong point, crazy.. Available only ...\n",
              "1   ham                      Ok lar... Joking wif u oni...\n",
              "2  spam  Free entry in 2 a wkly comp to win FA Cup fina...\n",
              "3   ham  U dun say so early hor... U c already then say...\n",
              "4   ham  Nah I don't think he goes to usf, he lives aro..."
            ]
          },
          "metadata": {},
          "execution_count": 2
        }
      ]
    },
    {
      "cell_type": "code",
      "source": [
        "len(df)"
      ],
      "metadata": {
        "id": "bIR-r2EscdQt",
        "colab": {
          "base_uri": "https://localhost:8080/"
        },
        "outputId": "23bf133e-333d-4657-ce66-9a486297b624"
      },
      "execution_count": null,
      "outputs": [
        {
          "output_type": "execute_result",
          "data": {
            "text/plain": [
              "5574"
            ]
          },
          "metadata": {},
          "execution_count": 3
        }
      ]
    },
    {
      "cell_type": "code",
      "source": [
        "df[\"text\"][2]"
      ],
      "metadata": {
        "colab": {
          "base_uri": "https://localhost:8080/",
          "height": 53
        },
        "id": "2-ESipisnflw",
        "outputId": "c3a28249-c4db-4a5a-ac0c-fa54b08ffa7c"
      },
      "execution_count": null,
      "outputs": [
        {
          "output_type": "execute_result",
          "data": {
            "application/vnd.google.colaboratory.intrinsic+json": {
              "type": "string"
            },
            "text/plain": [
              "\"free entry in 2 a wkly comp to win fa cup final tkts 21st may 2005. text fa to 87121 to receive entry question(std txt rate)t&c's apply 08452810075over18's\""
            ]
          },
          "metadata": {},
          "execution_count": 54
        }
      ]
    },
    {
      "cell_type": "code",
      "source": [
        "ws = WordNetLemmatizer()"
      ],
      "metadata": {
        "id": "N09l_NnYZ9Pb"
      },
      "execution_count": null,
      "outputs": []
    },
    {
      "cell_type": "code",
      "source": [
        "def split_word_review(data):\n",
        "  lemma_word = []\n",
        "  for i in range(len(data)):\n",
        "    data[i] = data[i].lower()\n",
        "    word_token = word_tokenize(data[i])\n",
        "    clean_data = [i for i in word_token if i not in stopwords.words() and i.isalnum()]\n",
        "    b = []\n",
        "    for i in clean_data:\n",
        "      b.append(ws.lemmatize(i))\n",
        "    lemma_word.append(b)\n",
        "  return lemma_word"
      ],
      "metadata": {
        "id": "i2QMEAbMYsIW"
      },
      "execution_count": null,
      "outputs": []
    },
    {
      "cell_type": "code",
      "source": [
        "lemma_word = split_word_review(df[\"text\"])"
      ],
      "metadata": {
        "id": "eH8rvguAZYEf"
      },
      "execution_count": null,
      "outputs": []
    },
    {
      "cell_type": "code",
      "source": [
        "lemma_word[0]"
      ],
      "metadata": {
        "colab": {
          "base_uri": "https://localhost:8080/"
        },
        "id": "xwLTJ8xXddix",
        "outputId": "a32b1fa5-df04-466f-b7be-e4193bc91c44"
      },
      "execution_count": null,
      "outputs": [
        {
          "output_type": "execute_result",
          "data": {
            "text/plain": [
              "['go',\n",
              " 'jurong',\n",
              " 'point',\n",
              " 'available',\n",
              " 'bugis',\n",
              " 'great',\n",
              " 'world',\n",
              " 'buffet',\n",
              " 'got',\n",
              " 'amore']"
            ]
          },
          "metadata": {},
          "execution_count": 7
        }
      ]
    },
    {
      "cell_type": "code",
      "source": [
        "df[\"lemma_word\"] = lemma_word\n",
        "df.head()"
      ],
      "metadata": {
        "colab": {
          "base_uri": "https://localhost:8080/",
          "height": 206
        },
        "id": "T9JyFclDZbbL",
        "outputId": "d8cb3235-769a-4c57-bdb9-a8e6fc5a3aa4"
      },
      "execution_count": null,
      "outputs": [
        {
          "output_type": "execute_result",
          "data": {
            "text/html": [
              "\n",
              "  <div id=\"df-c3717535-d99c-4a41-abcb-e7e795deff4e\">\n",
              "    <div class=\"colab-df-container\">\n",
              "      <div>\n",
              "<style scoped>\n",
              "    .dataframe tbody tr th:only-of-type {\n",
              "        vertical-align: middle;\n",
              "    }\n",
              "\n",
              "    .dataframe tbody tr th {\n",
              "        vertical-align: top;\n",
              "    }\n",
              "\n",
              "    .dataframe thead th {\n",
              "        text-align: right;\n",
              "    }\n",
              "</style>\n",
              "<table border=\"1\" class=\"dataframe\">\n",
              "  <thead>\n",
              "    <tr style=\"text-align: right;\">\n",
              "      <th></th>\n",
              "      <th>type</th>\n",
              "      <th>text</th>\n",
              "      <th>lemma_word</th>\n",
              "    </tr>\n",
              "  </thead>\n",
              "  <tbody>\n",
              "    <tr>\n",
              "      <th>0</th>\n",
              "      <td>ham</td>\n",
              "      <td>go until jurong point, crazy.. available only ...</td>\n",
              "      <td>[go, jurong, point, available, bugis, great, w...</td>\n",
              "    </tr>\n",
              "    <tr>\n",
              "      <th>1</th>\n",
              "      <td>ham</td>\n",
              "      <td>ok lar... joking wif u oni...</td>\n",
              "      <td>[ok, lar, joking, wif]</td>\n",
              "    </tr>\n",
              "    <tr>\n",
              "      <th>2</th>\n",
              "      <td>spam</td>\n",
              "      <td>free entry in 2 a wkly comp to win fa cup fina...</td>\n",
              "      <td>[free, entry, 2, wkly, comp, win, fa, cup, fin...</td>\n",
              "    </tr>\n",
              "    <tr>\n",
              "      <th>3</th>\n",
              "      <td>ham</td>\n",
              "      <td>u dun say so early hor... u c already then say...</td>\n",
              "      <td>[dun, say, early, hor, already, say]</td>\n",
              "    </tr>\n",
              "    <tr>\n",
              "      <th>4</th>\n",
              "      <td>ham</td>\n",
              "      <td>nah i don't think he goes to usf, he lives aro...</td>\n",
              "      <td>[think, go, usf, life, around, though]</td>\n",
              "    </tr>\n",
              "  </tbody>\n",
              "</table>\n",
              "</div>\n",
              "      <button class=\"colab-df-convert\" onclick=\"convertToInteractive('df-c3717535-d99c-4a41-abcb-e7e795deff4e')\"\n",
              "              title=\"Convert this dataframe to an interactive table.\"\n",
              "              style=\"display:none;\">\n",
              "        \n",
              "  <svg xmlns=\"http://www.w3.org/2000/svg\" height=\"24px\"viewBox=\"0 0 24 24\"\n",
              "       width=\"24px\">\n",
              "    <path d=\"M0 0h24v24H0V0z\" fill=\"none\"/>\n",
              "    <path d=\"M18.56 5.44l.94 2.06.94-2.06 2.06-.94-2.06-.94-.94-2.06-.94 2.06-2.06.94zm-11 1L8.5 8.5l.94-2.06 2.06-.94-2.06-.94L8.5 2.5l-.94 2.06-2.06.94zm10 10l.94 2.06.94-2.06 2.06-.94-2.06-.94-.94-2.06-.94 2.06-2.06.94z\"/><path d=\"M17.41 7.96l-1.37-1.37c-.4-.4-.92-.59-1.43-.59-.52 0-1.04.2-1.43.59L10.3 9.45l-7.72 7.72c-.78.78-.78 2.05 0 2.83L4 21.41c.39.39.9.59 1.41.59.51 0 1.02-.2 1.41-.59l7.78-7.78 2.81-2.81c.8-.78.8-2.07 0-2.86zM5.41 20L4 18.59l7.72-7.72 1.47 1.35L5.41 20z\"/>\n",
              "  </svg>\n",
              "      </button>\n",
              "      \n",
              "  <style>\n",
              "    .colab-df-container {\n",
              "      display:flex;\n",
              "      flex-wrap:wrap;\n",
              "      gap: 12px;\n",
              "    }\n",
              "\n",
              "    .colab-df-convert {\n",
              "      background-color: #E8F0FE;\n",
              "      border: none;\n",
              "      border-radius: 50%;\n",
              "      cursor: pointer;\n",
              "      display: none;\n",
              "      fill: #1967D2;\n",
              "      height: 32px;\n",
              "      padding: 0 0 0 0;\n",
              "      width: 32px;\n",
              "    }\n",
              "\n",
              "    .colab-df-convert:hover {\n",
              "      background-color: #E2EBFA;\n",
              "      box-shadow: 0px 1px 2px rgba(60, 64, 67, 0.3), 0px 1px 3px 1px rgba(60, 64, 67, 0.15);\n",
              "      fill: #174EA6;\n",
              "    }\n",
              "\n",
              "    [theme=dark] .colab-df-convert {\n",
              "      background-color: #3B4455;\n",
              "      fill: #D2E3FC;\n",
              "    }\n",
              "\n",
              "    [theme=dark] .colab-df-convert:hover {\n",
              "      background-color: #434B5C;\n",
              "      box-shadow: 0px 1px 3px 1px rgba(0, 0, 0, 0.15);\n",
              "      filter: drop-shadow(0px 1px 2px rgba(0, 0, 0, 0.3));\n",
              "      fill: #FFFFFF;\n",
              "    }\n",
              "  </style>\n",
              "\n",
              "      <script>\n",
              "        const buttonEl =\n",
              "          document.querySelector('#df-c3717535-d99c-4a41-abcb-e7e795deff4e button.colab-df-convert');\n",
              "        buttonEl.style.display =\n",
              "          google.colab.kernel.accessAllowed ? 'block' : 'none';\n",
              "\n",
              "        async function convertToInteractive(key) {\n",
              "          const element = document.querySelector('#df-c3717535-d99c-4a41-abcb-e7e795deff4e');\n",
              "          const dataTable =\n",
              "            await google.colab.kernel.invokeFunction('convertToInteractive',\n",
              "                                                     [key], {});\n",
              "          if (!dataTable) return;\n",
              "\n",
              "          const docLinkHtml = 'Like what you see? Visit the ' +\n",
              "            '<a target=\"_blank\" href=https://colab.research.google.com/notebooks/data_table.ipynb>data table notebook</a>'\n",
              "            + ' to learn more about interactive tables.';\n",
              "          element.innerHTML = '';\n",
              "          dataTable['output_type'] = 'display_data';\n",
              "          await google.colab.output.renderOutput(dataTable, element);\n",
              "          const docLink = document.createElement('div');\n",
              "          docLink.innerHTML = docLinkHtml;\n",
              "          element.appendChild(docLink);\n",
              "        }\n",
              "      </script>\n",
              "    </div>\n",
              "  </div>\n",
              "  "
            ],
            "text/plain": [
              "   type  ...                                         lemma_word\n",
              "0   ham  ...  [go, jurong, point, available, bugis, great, w...\n",
              "1   ham  ...                             [ok, lar, joking, wif]\n",
              "2  spam  ...  [free, entry, 2, wkly, comp, win, fa, cup, fin...\n",
              "3   ham  ...               [dun, say, early, hor, already, say]\n",
              "4   ham  ...             [think, go, usf, life, around, though]\n",
              "\n",
              "[5 rows x 3 columns]"
            ]
          },
          "metadata": {},
          "execution_count": 8
        }
      ]
    },
    {
      "cell_type": "code",
      "source": [
        "vocab = []\n",
        "for i in df[\"lemma_word\"]:\n",
        "  for j in i:\n",
        "    if j not in vocab:\n",
        "      vocab.append(j)"
      ],
      "metadata": {
        "id": "LSBE-argaU5j"
      },
      "execution_count": null,
      "outputs": []
    },
    {
      "cell_type": "code",
      "source": [
        "vocab[:10]"
      ],
      "metadata": {
        "colab": {
          "base_uri": "https://localhost:8080/"
        },
        "id": "YAyAwr1iaz1c",
        "outputId": "a61c6644-4cb1-4f6d-b917-e6c7ffa6cada"
      },
      "execution_count": null,
      "outputs": [
        {
          "output_type": "execute_result",
          "data": {
            "text/plain": [
              "['go',\n",
              " 'jurong',\n",
              " 'point',\n",
              " 'available',\n",
              " 'bugis',\n",
              " 'great',\n",
              " 'world',\n",
              " 'buffet',\n",
              " 'got',\n",
              " 'amore']"
            ]
          },
          "metadata": {},
          "execution_count": 10
        }
      ]
    },
    {
      "cell_type": "code",
      "source": [
        "#word_2_index {\"word\":\"index\"}\n",
        "#index_2_word {\"index\":\"word\"}"
      ],
      "metadata": {
        "id": "IWdop844g_94"
      },
      "execution_count": null,
      "outputs": []
    },
    {
      "cell_type": "code",
      "source": [
        "def create_dict(words):\n",
        "  word_to_int = {}\n",
        "  int_to_word = {}\n",
        "  for i in range(len(words)):\n",
        "    word_to_int[words[i]] = i+1\n",
        "\n",
        "  for i in range(len(words)):\n",
        "    int_to_word[i+1] = words[i]\n",
        "\n",
        "  return word_to_int , int_to_word"
      ],
      "metadata": {
        "id": "sM3ZMsTGhM08"
      },
      "execution_count": null,
      "outputs": []
    },
    {
      "cell_type": "code",
      "source": [
        "def create_dicr(words):\n",
        "  words_to_int = {w:i+1 for i,w in enumerate(words)}\n",
        "  int_to_word = {i:w for i,w in words_to_int.items()}\n",
        "\n",
        "  return words_to_int , int_to_word"
      ],
      "metadata": {
        "id": "B5QXQGZ2eIrS"
      },
      "execution_count": null,
      "outputs": []
    },
    {
      "cell_type": "code",
      "source": [
        "# a = [\"abc\",\"cve\",\"tuv\"]\n",
        "# for i,z in enumerate(a):\n",
        "#   print(i,z)"
      ],
      "metadata": {
        "id": "B9fQ57goeXQF"
      },
      "execution_count": null,
      "outputs": []
    },
    {
      "cell_type": "code",
      "source": [
        "word_to_int , int_to_word = create_dict(vocab)"
      ],
      "metadata": {
        "id": "cEaKm5u9c9Cg"
      },
      "execution_count": null,
      "outputs": []
    },
    {
      "cell_type": "code",
      "source": [
        "word_to_int[\"got\"]"
      ],
      "metadata": {
        "colab": {
          "base_uri": "https://localhost:8080/"
        },
        "id": "dRvdVb5zdPgc",
        "outputId": "ca476058-33af-4bff-cdf8-69f8318f33fa"
      },
      "execution_count": null,
      "outputs": [
        {
          "output_type": "execute_result",
          "data": {
            "text/plain": [
              "9"
            ]
          },
          "metadata": {},
          "execution_count": 16
        }
      ]
    },
    {
      "cell_type": "code",
      "source": [
        "int_to_word[1]"
      ],
      "metadata": {
        "colab": {
          "base_uri": "https://localhost:8080/",
          "height": 35
        },
        "id": "yXz6wGXwdfaM",
        "outputId": "a82358a8-e5b8-4b21-9897-01ba48677b53"
      },
      "execution_count": null,
      "outputs": [
        {
          "output_type": "execute_result",
          "data": {
            "application/vnd.google.colaboratory.intrinsic+json": {
              "type": "string"
            },
            "text/plain": [
              "'go'"
            ]
          },
          "metadata": {},
          "execution_count": 17
        }
      ]
    },
    {
      "cell_type": "code",
      "source": [
        "# [\"i\",\"love\", \"my\",\"country\",\"\"]\n",
        "# [\"i \" ,\"am\",\"boy\" ,\"\",\"\"]\n",
        "#[\"my\",\"name\",\"is\",\"rehan\",\"khan\"]"
      ],
      "metadata": {
        "id": "8uZ8bNI4eBsJ"
      },
      "execution_count": null,
      "outputs": []
    },
    {
      "cell_type": "code",
      "source": [
        ""
      ],
      "metadata": {
        "id": "PXbr3xKQhUvV"
      },
      "execution_count": null,
      "outputs": []
    },
    {
      "cell_type": "code",
      "source": [
        "max([len(i) for i in lemma_word])"
      ],
      "metadata": {
        "colab": {
          "base_uri": "https://localhost:8080/"
        },
        "id": "WP80Z2TRh4Q5",
        "outputId": "3609e8f1-bf13-40db-84da-18944636ec37"
      },
      "execution_count": null,
      "outputs": [
        {
          "output_type": "execute_result",
          "data": {
            "text/plain": [
              "73"
            ]
          },
          "metadata": {},
          "execution_count": 19
        }
      ]
    },
    {
      "cell_type": "code",
      "source": [
        "lemma_word[1]"
      ],
      "metadata": {
        "colab": {
          "base_uri": "https://localhost:8080/"
        },
        "id": "BO9i-_00iUgD",
        "outputId": "9dfbb1f2-84c5-4fca-e18a-26dc124a591d"
      },
      "execution_count": null,
      "outputs": [
        {
          "output_type": "execute_result",
          "data": {
            "text/plain": [
              "['ok', 'lar', 'joking', 'wif']"
            ]
          },
          "metadata": {},
          "execution_count": 20
        }
      ]
    },
    {
      "cell_type": "code",
      "source": [
        "for i in lemma_word:\n",
        "  print(i)\n",
        "  break"
      ],
      "metadata": {
        "colab": {
          "base_uri": "https://localhost:8080/"
        },
        "id": "81GCEPxFk7LK",
        "outputId": "989bf4ab-eed7-4d1f-a78b-4f629d462e0d"
      },
      "execution_count": null,
      "outputs": [
        {
          "output_type": "stream",
          "name": "stdout",
          "text": [
            "['go', 'jurong', 'point', 'available', 'bugis', 'great', 'world', 'buffet', 'got', 'amore']\n"
          ]
        }
      ]
    },
    {
      "cell_type": "code",
      "source": [
        "def pad_text(tokenize_words ,seq_length):\n",
        " \n",
        "  reviews = []\n",
        "  for i in tokenize_words:\n",
        "    if len(i) >= seq_length:\n",
        "      reviews.append(i[:seq_length])\n",
        "\n",
        "    else:\n",
        "      reviews.append([\"\"]*(seq_length - len(i))+ i)\n",
        "\n",
        "  return np.array(reviews)"
      ],
      "metadata": {
        "id": "C3GO8JetjRqM"
      },
      "execution_count": null,
      "outputs": []
    },
    {
      "cell_type": "code",
      "source": [
        "len(vocab)\n",
        "seq_length = 26"
      ],
      "metadata": {
        "id": "ewOANBL-mL8K"
      },
      "execution_count": null,
      "outputs": []
    },
    {
      "cell_type": "code",
      "source": [
        "padded_sentences = pad_text(lemma_word,26)"
      ],
      "metadata": {
        "id": "r3vFfCbvl1Jc"
      },
      "execution_count": null,
      "outputs": []
    },
    {
      "cell_type": "code",
      "source": [
        "padded_sentences[3]"
      ],
      "metadata": {
        "colab": {
          "base_uri": "https://localhost:8080/"
        },
        "id": "0K9vAr44l5zk",
        "outputId": "504101db-e358-4115-f250-e0df036233c6"
      },
      "execution_count": null,
      "outputs": [
        {
          "output_type": "execute_result",
          "data": {
            "text/plain": [
              "array(['', '', '', '', '', '', '', '', '', '', '', '', '', '', '', '', '',\n",
              "       '', '', '', 'dun', 'say', 'early', 'hor', 'already', 'say'],\n",
              "      dtype='<U34')"
            ]
          },
          "metadata": {},
          "execution_count": 25
        }
      ]
    },
    {
      "cell_type": "code",
      "source": [
        "word_to_int[''] = 0\n",
        "int_to_word[0] = ''"
      ],
      "metadata": {
        "id": "rdZMxZ__mRPX"
      },
      "execution_count": null,
      "outputs": []
    },
    {
      "cell_type": "code",
      "source": [
        ""
      ],
      "metadata": {
        "id": "bWsSOHP9niFO"
      },
      "execution_count": null,
      "outputs": []
    },
    {
      "cell_type": "code",
      "source": [
        "new_sent = []\n",
        "\n",
        "for i in padded_sentences:\n",
        "    word_list = []\n",
        "    for j in i:\n",
        "        word_list.append(word_to_int[j])\n",
        "    new_sent.append(word_list)\n",
        "\n",
        "new_sent= np.array(new_sent)"
      ],
      "metadata": {
        "id": "0qh7j5zsoKT2"
      },
      "execution_count": null,
      "outputs": []
    },
    {
      "cell_type": "code",
      "source": [
        "len(new_sent)"
      ],
      "metadata": {
        "id": "piHJJkuRsF9E",
        "colab": {
          "base_uri": "https://localhost:8080/"
        },
        "outputId": "43d30ed8-22de-4bcc-c81c-578f3f70ca10"
      },
      "execution_count": null,
      "outputs": [
        {
          "output_type": "execute_result",
          "data": {
            "text/plain": [
              "5574"
            ]
          },
          "metadata": {},
          "execution_count": 28
        }
      ]
    },
    {
      "cell_type": "code",
      "source": [
        "class SentimentLSTM(nn.Module):\n",
        "\n",
        "\n",
        "  def __init__(self,n_vocab,n_embed,n_hidden,n_output,n_layers,drop_p=0.25):\n",
        "    super().__init__()\n",
        "\n",
        "    self.n_vocab = n_vocab\n",
        "    self.n_embed = n_embed\n",
        "    self.n_hidden = n_hidden\n",
        "    self.n_output = n_output\n",
        "    self.n_layers = n_layers\n",
        "    self.drop_p = drop_p\n",
        "\n",
        "    self.embedding = nn.Embedding(n_vocab , n_embed)\n",
        "    self.lstm = nn.LSTM(n_embed,n_hidden,n_layers,batch_first = True)\n",
        "    self.dropout = nn.Dropout(drop_p)\n",
        "    self.fc = nn.Linear(n_hidden,n_output)\n",
        "    self.sigmoid = nn.Sigmoid()\n",
        "\n",
        "\n",
        "  def forward(self,input_words):\n",
        "    embedded_words = self.embedding(input_words)\n",
        "    lstm_out , h = self.lstm(embedded_words)\n",
        "    lstm_out = self.dropout(lstm_out)\n",
        "    lstm_out = lstm_out.contiguous().view(-1,self.n_hidden) \n",
        "    fc_out = self.fc(lstm_out)\n",
        "    sigmoid_out = self.sigmoid(fc_out)\n",
        "    sigmoid_out = sigmoid_out.view(batch_size,-1) #batch size, total no of columns\n",
        "    sigmoid_last = sigmoid_out[:,-1]\n",
        "    return sigmoid_last , h\n",
        "\n",
        "  def init_hidden(self,batch_size):\n",
        "\n",
        "    device = \"cpu\"\n",
        "    weights = next(self.parameters()).data\n",
        "    h = (weights.new(self.n_layers , batch_size,self.n_hidden).zero_().to(device),\n",
        "         weights.new(self.n_layers,batch_size,self.n_hidden).zero_().to(device))\n",
        "    \n",
        "    return h"
      ],
      "metadata": {
        "id": "HHITmGEQthLm"
      },
      "execution_count": null,
      "outputs": []
    },
    {
      "cell_type": "code",
      "source": [
        "#n_vocab,n_embed,n_hidden,n_output,n_layers\n",
        "n_vocab = len(word_to_int)\n",
        "n_embed = 10 #50-150\n",
        "n_hidden = 100\n",
        "n_output = 1\n",
        "n_layers = 1 #2\n",
        "\n",
        "net = SentimentLSTM(n_vocab,n_embed,n_hidden,n_output,n_layers)"
      ],
      "metadata": {
        "id": "1PWz9GOG8Y_Y"
      },
      "execution_count": null,
      "outputs": []
    },
    {
      "cell_type": "code",
      "source": [
        "net"
      ],
      "metadata": {
        "colab": {
          "base_uri": "https://localhost:8080/"
        },
        "id": "jwVJE7QuNb2-",
        "outputId": "553047fe-a389-4542-f7cd-c05205c698e3"
      },
      "execution_count": null,
      "outputs": [
        {
          "output_type": "execute_result",
          "data": {
            "text/plain": [
              "SentimentLSTM(\n",
              "  (embedding): Embedding(7376, 10)\n",
              "  (lstm): LSTM(10, 100, batch_first=True)\n",
              "  (dropout): Dropout(p=0.25, inplace=False)\n",
              "  (fc): Linear(in_features=100, out_features=1, bias=True)\n",
              "  (sigmoid): Sigmoid()\n",
              ")"
            ]
          },
          "metadata": {},
          "execution_count": 31
        }
      ]
    },
    {
      "cell_type": "code",
      "source": [
        "a = []\n",
        "\n",
        "for i in df[\"type\"]:\n",
        "  if i ==\"ham\":\n",
        "    a.append(1)\n",
        "\n",
        "  else:\n",
        "    a.append(0)\n",
        "\n",
        "df[\"type\"] = a\n",
        "df.head(10)"
      ],
      "metadata": {
        "colab": {
          "base_uri": "https://localhost:8080/",
          "height": 363
        },
        "id": "cQd8bsUvPMHK",
        "outputId": "2ea4c70f-0ef6-4c17-9563-fabb1f926b02"
      },
      "execution_count": null,
      "outputs": [
        {
          "output_type": "execute_result",
          "data": {
            "text/html": [
              "\n",
              "  <div id=\"df-0b0f3172-5f3d-422b-aa19-480eda296799\">\n",
              "    <div class=\"colab-df-container\">\n",
              "      <div>\n",
              "<style scoped>\n",
              "    .dataframe tbody tr th:only-of-type {\n",
              "        vertical-align: middle;\n",
              "    }\n",
              "\n",
              "    .dataframe tbody tr th {\n",
              "        vertical-align: top;\n",
              "    }\n",
              "\n",
              "    .dataframe thead th {\n",
              "        text-align: right;\n",
              "    }\n",
              "</style>\n",
              "<table border=\"1\" class=\"dataframe\">\n",
              "  <thead>\n",
              "    <tr style=\"text-align: right;\">\n",
              "      <th></th>\n",
              "      <th>type</th>\n",
              "      <th>text</th>\n",
              "      <th>lemma_word</th>\n",
              "    </tr>\n",
              "  </thead>\n",
              "  <tbody>\n",
              "    <tr>\n",
              "      <th>0</th>\n",
              "      <td>1</td>\n",
              "      <td>go until jurong point, crazy.. available only ...</td>\n",
              "      <td>[go, jurong, point, available, bugis, great, w...</td>\n",
              "    </tr>\n",
              "    <tr>\n",
              "      <th>1</th>\n",
              "      <td>1</td>\n",
              "      <td>ok lar... joking wif u oni...</td>\n",
              "      <td>[ok, lar, joking, wif]</td>\n",
              "    </tr>\n",
              "    <tr>\n",
              "      <th>2</th>\n",
              "      <td>0</td>\n",
              "      <td>free entry in 2 a wkly comp to win fa cup fina...</td>\n",
              "      <td>[free, entry, 2, wkly, comp, win, fa, cup, fin...</td>\n",
              "    </tr>\n",
              "    <tr>\n",
              "      <th>3</th>\n",
              "      <td>1</td>\n",
              "      <td>u dun say so early hor... u c already then say...</td>\n",
              "      <td>[dun, say, early, hor, already, say]</td>\n",
              "    </tr>\n",
              "    <tr>\n",
              "      <th>4</th>\n",
              "      <td>1</td>\n",
              "      <td>nah i don't think he goes to usf, he lives aro...</td>\n",
              "      <td>[think, go, usf, life, around, though]</td>\n",
              "    </tr>\n",
              "    <tr>\n",
              "      <th>5</th>\n",
              "      <td>0</td>\n",
              "      <td>freemsg hey there darling it's been 3 week's n...</td>\n",
              "      <td>[freemsg, hey, darling, 3, week, word, back, l...</td>\n",
              "    </tr>\n",
              "    <tr>\n",
              "      <th>6</th>\n",
              "      <td>1</td>\n",
              "      <td>even my brother is not like to speak with me. ...</td>\n",
              "      <td>[even, brother, like, speak, treat, like, aid,...</td>\n",
              "    </tr>\n",
              "    <tr>\n",
              "      <th>7</th>\n",
              "      <td>1</td>\n",
              "      <td>as per your request 'melle melle (oru minnamin...</td>\n",
              "      <td>[request, melle, oru, minnaminunginte, nurungu...</td>\n",
              "    </tr>\n",
              "    <tr>\n",
              "      <th>8</th>\n",
              "      <td>0</td>\n",
              "      <td>winner!! as a valued network customer you have...</td>\n",
              "      <td>[winner, valued, network, customer, selected, ...</td>\n",
              "    </tr>\n",
              "    <tr>\n",
              "      <th>9</th>\n",
              "      <td>0</td>\n",
              "      <td>had your mobile 11 months or more? u r entitle...</td>\n",
              "      <td>[mobile, 11, month, r, entitled, update, lates...</td>\n",
              "    </tr>\n",
              "  </tbody>\n",
              "</table>\n",
              "</div>\n",
              "      <button class=\"colab-df-convert\" onclick=\"convertToInteractive('df-0b0f3172-5f3d-422b-aa19-480eda296799')\"\n",
              "              title=\"Convert this dataframe to an interactive table.\"\n",
              "              style=\"display:none;\">\n",
              "        \n",
              "  <svg xmlns=\"http://www.w3.org/2000/svg\" height=\"24px\"viewBox=\"0 0 24 24\"\n",
              "       width=\"24px\">\n",
              "    <path d=\"M0 0h24v24H0V0z\" fill=\"none\"/>\n",
              "    <path d=\"M18.56 5.44l.94 2.06.94-2.06 2.06-.94-2.06-.94-.94-2.06-.94 2.06-2.06.94zm-11 1L8.5 8.5l.94-2.06 2.06-.94-2.06-.94L8.5 2.5l-.94 2.06-2.06.94zm10 10l.94 2.06.94-2.06 2.06-.94-2.06-.94-.94-2.06-.94 2.06-2.06.94z\"/><path d=\"M17.41 7.96l-1.37-1.37c-.4-.4-.92-.59-1.43-.59-.52 0-1.04.2-1.43.59L10.3 9.45l-7.72 7.72c-.78.78-.78 2.05 0 2.83L4 21.41c.39.39.9.59 1.41.59.51 0 1.02-.2 1.41-.59l7.78-7.78 2.81-2.81c.8-.78.8-2.07 0-2.86zM5.41 20L4 18.59l7.72-7.72 1.47 1.35L5.41 20z\"/>\n",
              "  </svg>\n",
              "      </button>\n",
              "      \n",
              "  <style>\n",
              "    .colab-df-container {\n",
              "      display:flex;\n",
              "      flex-wrap:wrap;\n",
              "      gap: 12px;\n",
              "    }\n",
              "\n",
              "    .colab-df-convert {\n",
              "      background-color: #E8F0FE;\n",
              "      border: none;\n",
              "      border-radius: 50%;\n",
              "      cursor: pointer;\n",
              "      display: none;\n",
              "      fill: #1967D2;\n",
              "      height: 32px;\n",
              "      padding: 0 0 0 0;\n",
              "      width: 32px;\n",
              "    }\n",
              "\n",
              "    .colab-df-convert:hover {\n",
              "      background-color: #E2EBFA;\n",
              "      box-shadow: 0px 1px 2px rgba(60, 64, 67, 0.3), 0px 1px 3px 1px rgba(60, 64, 67, 0.15);\n",
              "      fill: #174EA6;\n",
              "    }\n",
              "\n",
              "    [theme=dark] .colab-df-convert {\n",
              "      background-color: #3B4455;\n",
              "      fill: #D2E3FC;\n",
              "    }\n",
              "\n",
              "    [theme=dark] .colab-df-convert:hover {\n",
              "      background-color: #434B5C;\n",
              "      box-shadow: 0px 1px 3px 1px rgba(0, 0, 0, 0.15);\n",
              "      filter: drop-shadow(0px 1px 2px rgba(0, 0, 0, 0.3));\n",
              "      fill: #FFFFFF;\n",
              "    }\n",
              "  </style>\n",
              "\n",
              "      <script>\n",
              "        const buttonEl =\n",
              "          document.querySelector('#df-0b0f3172-5f3d-422b-aa19-480eda296799 button.colab-df-convert');\n",
              "        buttonEl.style.display =\n",
              "          google.colab.kernel.accessAllowed ? 'block' : 'none';\n",
              "\n",
              "        async function convertToInteractive(key) {\n",
              "          const element = document.querySelector('#df-0b0f3172-5f3d-422b-aa19-480eda296799');\n",
              "          const dataTable =\n",
              "            await google.colab.kernel.invokeFunction('convertToInteractive',\n",
              "                                                     [key], {});\n",
              "          if (!dataTable) return;\n",
              "\n",
              "          const docLinkHtml = 'Like what you see? Visit the ' +\n",
              "            '<a target=\"_blank\" href=https://colab.research.google.com/notebooks/data_table.ipynb>data table notebook</a>'\n",
              "            + ' to learn more about interactive tables.';\n",
              "          element.innerHTML = '';\n",
              "          dataTable['output_type'] = 'display_data';\n",
              "          await google.colab.output.renderOutput(dataTable, element);\n",
              "          const docLink = document.createElement('div');\n",
              "          docLink.innerHTML = docLinkHtml;\n",
              "          element.appendChild(docLink);\n",
              "        }\n",
              "      </script>\n",
              "    </div>\n",
              "  </div>\n",
              "  "
            ],
            "text/plain": [
              "   type  ...                                         lemma_word\n",
              "0     1  ...  [go, jurong, point, available, bugis, great, w...\n",
              "1     1  ...                             [ok, lar, joking, wif]\n",
              "2     0  ...  [free, entry, 2, wkly, comp, win, fa, cup, fin...\n",
              "3     1  ...               [dun, say, early, hor, already, say]\n",
              "4     1  ...             [think, go, usf, life, around, though]\n",
              "5     0  ...  [freemsg, hey, darling, 3, week, word, back, l...\n",
              "6     1  ...  [even, brother, like, speak, treat, like, aid,...\n",
              "7     1  ...  [request, melle, oru, minnaminunginte, nurungu...\n",
              "8     0  ...  [winner, valued, network, customer, selected, ...\n",
              "9     0  ...  [mobile, 11, month, r, entitled, update, lates...\n",
              "\n",
              "[10 rows x 3 columns]"
            ]
          },
          "metadata": {},
          "execution_count": 32
        }
      ]
    },
    {
      "cell_type": "code",
      "source": [
        "labels = np.array([int(i) for i in df[\"type\"].values])"
      ],
      "metadata": {
        "id": "Y_sALu42ONg7"
      },
      "execution_count": null,
      "outputs": []
    },
    {
      "cell_type": "code",
      "source": [
        "labels[:40]"
      ],
      "metadata": {
        "colab": {
          "base_uri": "https://localhost:8080/"
        },
        "id": "0NEPao6LOkIV",
        "outputId": "1b9c2e96-cc09-47ad-ee55-3594c6a2b244"
      },
      "execution_count": null,
      "outputs": [
        {
          "output_type": "execute_result",
          "data": {
            "text/plain": [
              "array([1, 1, 0, 1, 1, 0, 1, 1, 0, 0, 1, 0, 0, 1, 1, 0, 1, 1, 1, 0, 1, 1,\n",
              "       1, 1, 1, 1, 1, 1, 1, 1, 1, 1, 1, 1, 0, 1, 1, 1, 1, 1])"
            ]
          },
          "metadata": {},
          "execution_count": 34
        }
      ]
    },
    {
      "cell_type": "code",
      "source": [
        "#train , test & validation\n",
        "train_ratio = 0.8\n",
        "valid_ratio = (1-train_ratio)/2\n",
        "#test_ratio = (1 -(train_ratio+valid_ratio))\n",
        "\n",
        "total = len(new_sent)\n",
        "train_cutoff = int((total*train_ratio))\n",
        "valid_cutoff = int((total*(1-valid_ratio))) #(50*(0.9)) 45\n",
        "\n",
        "\n",
        "#numpy to tensor\n",
        "train_x, train_y = torch.Tensor(new_sent[:train_cutoff]).long() , torch.Tensor(labels[:train_cutoff]).long()\n",
        "valid_x , valid_y = torch.Tensor(new_sent[train_cutoff:valid_cutoff]).long() , torch.Tensor(labels[train_cutoff:valid_cutoff]).long()\n",
        "test_x , test_y = torch.Tensor(new_sent[valid_cutoff:]).long() , torch.Tensor(labels[valid_cutoff:]).long()\n",
        "\n",
        "\n",
        "train_data = TensorDataset(train_x,train_y)\n",
        "valid_data = TensorDataset(valid_x ,valid_y)\n",
        "test_data = TensorDataset(test_x,test_y)\n",
        "\n",
        "batch_size = 1\n",
        "\n",
        "\n",
        "train_loader = DataLoader(train_data,batch_size = batch_size,shuffle=True)\n",
        "valid_loader = DataLoader(valid_data,batch_size = batch_size,shuffle=True)\n",
        "test_loader = DataLoader(test_data,batch_size = batch_size,shuffle=True)"
      ],
      "metadata": {
        "id": "r0gQ6sP7OlKY"
      },
      "execution_count": null,
      "outputs": []
    },
    {
      "cell_type": "code",
      "source": [
        "for i , j in train_loader:\n",
        "  print(i.size(), j)\n",
        "  break"
      ],
      "metadata": {
        "colab": {
          "base_uri": "https://localhost:8080/"
        },
        "id": "B4vFj5FyW58y",
        "outputId": "78b5ac42-1ee9-41d9-ca23-7a48c4c1d3c1"
      },
      "execution_count": null,
      "outputs": [
        {
          "output_type": "stream",
          "name": "stdout",
          "text": [
            "torch.Size([1, 26]) tensor([1])\n"
          ]
        }
      ]
    },
    {
      "cell_type": "code",
      "source": [
        "lr = 0.001\n",
        "\n",
        "loss_fn = nn.BCELoss()\n",
        "optimizer = torch.optim.Adam(net.parameters(),lr=lr)"
      ],
      "metadata": {
        "id": "Z4TNigXwVfZe"
      },
      "execution_count": null,
      "outputs": []
    },
    {
      "cell_type": "code",
      "source": [
        "def acc(pred,label):\n",
        "  pred = torch.round(pred)\n",
        "  return torch.sum(pred==label).item()"
      ],
      "metadata": {
        "id": "RELmmS9qck6F"
      },
      "execution_count": null,
      "outputs": []
    },
    {
      "cell_type": "code",
      "source": [
        "def train_sentiment(net,loss_fn,optimizer,epochs=10):\n",
        "\n",
        "  for epoch in range(epochs):\n",
        "    h = net.init_hidden(batch_size)\n",
        "    train_loss = 0.0\n",
        "    train_acc = 0.0\n",
        "    valid_loss = 0.0\n",
        "    valid_acc = 0.0\n",
        "\n",
        "\n",
        "    net.train()\n",
        "\n",
        "    for input,labels in train_loader:\n",
        "      #init_hidden()\n",
        "      output,h = net(input)\n",
        "      optimizer.zero_grad()\n",
        "      \n",
        "\n",
        "      loss = loss_fn(output,labels.float())\n",
        "      loss.backward()\n",
        "      train_loss += loss.item()\n",
        "\n",
        "      accuracy = acc(output,labels)\n",
        "\n",
        "      train_acc += accuracy\n",
        "\n",
        "      optimizer.step()\n",
        "\n",
        "    for input,labels in valid_loader:\n",
        "      output,h = net(input)\n",
        "      \n",
        "\n",
        "      loss = loss_fn(output,labels.float())\n",
        "      valid_loss += loss.item()\n",
        "\n",
        "      accuracy = acc(output,labels)\n",
        "\n",
        "      valid_acc += accuracy\n",
        "\n",
        "    print(\"Epoch {} , Train_acc : {:.2f} , Train_loss : {:.2f} , Valid_acc : {:.2f} , valid_loss{:.2f}\".format(\n",
        "        epoch+1 , train_acc/len(train_data) , train_loss/len(train_loader), valid_acc/len(valid_data) , valid_loss/len(valid_loader)))\n",
        "    \n",
        "\n",
        "    "
      ],
      "metadata": {
        "id": "1ECer9L2Yw4I"
      },
      "execution_count": null,
      "outputs": []
    },
    {
      "cell_type": "code",
      "source": [
        "train_sentiment(net,loss_fn,optimizer,epochs=10)"
      ],
      "metadata": {
        "colab": {
          "base_uri": "https://localhost:8080/"
        },
        "id": "RgCPwRLAX-8L",
        "outputId": "5b4a3859-4935-4113-dcda-32d6047ae849"
      },
      "execution_count": null,
      "outputs": [
        {
          "output_type": "stream",
          "name": "stdout",
          "text": [
            "Epoch 1 , Train_acc : 0.91 , Train_loss : 0.24 , Valid_acc : 0.95 , valid_loss0.16\n",
            "Epoch 2 , Train_acc : 0.96 , Train_loss : 0.13 , Valid_acc : 0.95 , valid_loss0.13\n",
            "Epoch 3 , Train_acc : 0.98 , Train_loss : 0.08 , Valid_acc : 0.97 , valid_loss0.12\n",
            "Epoch 4 , Train_acc : 0.98 , Train_loss : 0.06 , Valid_acc : 0.97 , valid_loss0.11\n",
            "Epoch 5 , Train_acc : 0.99 , Train_loss : 0.04 , Valid_acc : 0.97 , valid_loss0.12\n",
            "Epoch 6 , Train_acc : 0.99 , Train_loss : 0.03 , Valid_acc : 0.95 , valid_loss0.15\n",
            "Epoch 7 , Train_acc : 0.99 , Train_loss : 0.02 , Valid_acc : 0.97 , valid_loss0.12\n",
            "Epoch 8 , Train_acc : 1.00 , Train_loss : 0.01 , Valid_acc : 0.96 , valid_loss0.20\n",
            "Epoch 9 , Train_acc : 1.00 , Train_loss : 0.00 , Valid_acc : 0.97 , valid_loss0.19\n",
            "Epoch 10 , Train_acc : 1.00 , Train_loss : 0.00 , Valid_acc : 0.97 , valid_loss0.26\n"
          ]
        }
      ]
    },
    {
      "cell_type": "code",
      "source": [
        "torch.save(net.state_dict(),\"model.pkl\")"
      ],
      "metadata": {
        "id": "SkTn-fVEW-oZ"
      },
      "execution_count": null,
      "outputs": []
    },
    {
      "cell_type": "code",
      "source": [
        "net"
      ],
      "metadata": {
        "colab": {
          "base_uri": "https://localhost:8080/"
        },
        "id": "9dAyWBr2d_gR",
        "outputId": "e8b8603a-bf80-4397-e7dc-0453976b3215"
      },
      "execution_count": null,
      "outputs": [
        {
          "output_type": "execute_result",
          "data": {
            "text/plain": [
              "SentimentLSTM(\n",
              "  (embedding): Embedding(7376, 10)\n",
              "  (lstm): LSTM(10, 100, batch_first=True)\n",
              "  (dropout): Dropout(p=0.25, inplace=False)\n",
              "  (fc): Linear(in_features=100, out_features=1, bias=True)\n",
              "  (sigmoid): Sigmoid()\n",
              ")"
            ]
          },
          "metadata": {},
          "execution_count": 42
        }
      ]
    },
    {
      "cell_type": "code",
      "source": [
        "net.load_state_dict(torch.load(\"model.pkl\"))"
      ],
      "metadata": {
        "colab": {
          "base_uri": "https://localhost:8080/"
        },
        "id": "_t2X68H4eaT7",
        "outputId": "6c1f0f0b-9cc3-4b26-eecf-24e00d7a1353"
      },
      "execution_count": null,
      "outputs": [
        {
          "output_type": "execute_result",
          "data": {
            "text/plain": [
              "<All keys matched successfully>"
            ]
          },
          "metadata": {},
          "execution_count": 43
        }
      ]
    },
    {
      "cell_type": "code",
      "source": [
        "net.eval()\n",
        "test_acc = 0\n",
        "test_loss = 0\n",
        "\n",
        "for input , labels in test_loader:\n",
        "  test_output , test_h = net(input)\n",
        "  loss = loss_fn(test_output,labels.float())\n",
        "  test_loss += loss.item()\n",
        "\n",
        "  accuracy = acc(test_output,labels)\n",
        "\n",
        "  test_acc += accuracy\n",
        "\n",
        "\n",
        "print(\"Test Acuracy : \",test_acc/len(test_data))\n",
        "print(\"Test Loss : \", test_loss/len(test_loader))\n",
        "\n",
        "\n",
        "  "
      ],
      "metadata": {
        "colab": {
          "base_uri": "https://localhost:8080/"
        },
        "id": "zpC1UNcdeivs",
        "outputId": "1e00b991-354c-435e-e7bd-4defc1442a0e"
      },
      "execution_count": null,
      "outputs": [
        {
          "output_type": "stream",
          "name": "stdout",
          "text": [
            "Test Acuracy :  0.9767025089605734\n",
            "Test Loss :  0.17859448869621283\n"
          ]
        }
      ]
    },
    {
      "cell_type": "code",
      "source": [
        "def preprocess_review(review):\n",
        "\n",
        "  tokenize = word_tokenize(review)\n",
        "  review = [i for i in tokenize if i not in stopwords.words() and i.isalnum()]\n",
        "\n",
        "  if len(tokenize) >= seq_length:\n",
        "    review = tokenize[:seq_length]\n",
        "\n",
        "  else:\n",
        "    review = ['0']*(seq_length - len(tokenize))+ tokenize # [0 ,0 ,0 ,a,b,c,d]\n",
        "    \n",
        "    #[\"a\",\"b\",\"c\",'']\n",
        "    #[0,a,b,c,'']\n",
        "\n",
        "\n",
        "    #for , i , n , '', [0,0,0,a,b,c,d]\n",
        "\n",
        "  final = []\n",
        "\n",
        "  for token in review:\n",
        "    try:\n",
        "      final.append(word_to_int[token]) #[0,1,2,3,0]\n",
        "\n",
        "    except:\n",
        "      final.append(word_to_int[''])\n",
        "\n",
        "  return final"
      ],
      "metadata": {
        "id": "38e5aKl8gaQ5"
      },
      "execution_count": null,
      "outputs": []
    },
    {
      "cell_type": "code",
      "source": [
        "def predict(review):\n",
        "  net.eval()\n",
        "\n",
        "  words = np.array([preprocess_review(review)])\n",
        "  padded_words = torch.from_numpy(words)\n",
        "\n",
        "  pred_loader = DataLoader(padded_words , batch_size=1,shuffle =True)\n",
        "\n",
        "  for i in pred_loader:\n",
        "    output = net(i)[0].item()\n",
        "\n",
        "\n",
        "\n",
        "  msg = \"This is a Ham email\" if output >=0.5 else \"This is a spam email\"\n",
        "  print(msg)\n",
        "  print(\"prediction = \" + str(output))"
      ],
      "metadata": {
        "id": "1d2-z7LglO5w"
      },
      "execution_count": null,
      "outputs": []
    },
    {
      "cell_type": "code",
      "source": [
        "predict(\"free entry in 2 a wkly comp to win fa cup final tkts 21st may 2005. text fa to 87121 to receive entry question(std txt rate)t&c's apply 08452810075over18's\")"
      ],
      "metadata": {
        "colab": {
          "base_uri": "https://localhost:8080/"
        },
        "id": "Jqubibdqm78Z",
        "outputId": "361b91b7-1a61-463c-9c5e-eafb5b015ec2"
      },
      "execution_count": null,
      "outputs": [
        {
          "output_type": "stream",
          "name": "stdout",
          "text": [
            "This is a spam email\n",
            "prediction = 0.0002292121498612687\n"
          ]
        }
      ]
    },
    {
      "cell_type": "code",
      "source": [
        ""
      ],
      "metadata": {
        "id": "23rWb9CLnKrM"
      },
      "execution_count": null,
      "outputs": []
    },
    {
      "cell_type": "code",
      "source": [
        ""
      ],
      "metadata": {
        "id": "uFb2aeoWnwYv"
      },
      "execution_count": null,
      "outputs": []
    },
    {
      "cell_type": "code",
      "source": [
        ""
      ],
      "metadata": {
        "id": "45gsemWxnzvr"
      },
      "execution_count": null,
      "outputs": []
    }
  ]
}